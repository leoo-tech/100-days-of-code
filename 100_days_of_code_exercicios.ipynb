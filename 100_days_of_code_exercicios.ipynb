{
  "cells": [
    {
      "cell_type": "markdown",
      "metadata": {
        "id": "bZSlhK7vkIeq"
      },
      "source": [
        "#tip calculator\n",
        "If the bill was $150.00, split between 5 people, with 12% tip.\n",
        "Each person should pay (150.00 / 5) * 1.12 = 33.6\n",
        "Format the result to 2 decimal places = 33.60"
      ]
    },
    {
      "cell_type": "code",
      "execution_count": null,
      "metadata": {
        "id": "0BgTfMpvdnmo"
      },
      "outputs": [],
      "source": [
        "print(\"Welcome to the tip calculator!\")\n",
        "bill = float(input(\"Total bill: $\"))\n",
        "tip = int(input(\"How much tip would you like to give? 10, 12 or 15? \"))\n",
        "people = int(input(\"How many people will split the bill? \"))\n",
        "\n",
        "tip_as_percent = tip / 100\n",
        "total_tip_amount = bill * tip_as_percent\n",
        "total_bill = bill + total_tip_amount\n",
        "bill_per_person = total_bill / people\n",
        "final_amount = \"{:.2f}\".format(bill_per_person)\n",
        "\n",
        "print(f\"Each person should pay: ${final_amount}\")"
      ]
    },
    {
      "cell_type": "markdown",
      "metadata": {
        "id": "ChR6m9G-k0fv"
      },
      "source": [
        "#band generator name\n",
        "\n",
        "forme sua banda aqui!"
      ]
    },
    {
      "cell_type": "code",
      "execution_count": null,
      "metadata": {
        "id": "wWvQN7BtmbFR"
      },
      "outputs": [],
      "source": [
        "print(\"Welcome to the Band Name Generator.\")\n",
        "street = input(\"What's name of the city you grew up in?\\n\")\n",
        "pet = input(\"What's your pet's name?\\n\")\n",
        "print(\"Your band name could be \" + street + \" \" + pet)"
      ]
    },
    {
      "cell_type": "markdown",
      "metadata": {
        "id": "DeBza6hro1gR"
      },
      "source": [
        "# ano bissexto\n",
        "cheque se um ano em particular foi, ou será, bissexto"
      ]
    },
    {
      "cell_type": "code",
      "execution_count": null,
      "metadata": {
        "id": "Y3CWOu0kpI9u"
      },
      "outputs": [],
      "source": [
        "# 🚨 Don't change the code below 👇\n",
        "year = int(input(\"Which year do you want to check? \"))\n",
        "# 🚨 Don't change the code above 👆\n",
        "\n",
        "#Write your code below this line 👇\n",
        "\n",
        "if year % 4 == 0:\n",
        "  if year % 100 !=0:\n",
        "    if year % 400 == 0:\n",
        "      print(\"leap year\")\n",
        "    else:\n",
        "      print(\"not leap year\")\n",
        "  else:\n",
        "    print(\"leap year\")\n",
        "else:\n",
        "  print(\"not leap year\")\n",
        "\n",
        "# alternative version\n",
        "# if year % 4 == 0:\n",
        "#   print(\"leap year\")\n",
        "# elif year % 100 != 0:\n",
        "#   print(\"not leap year\")\n",
        "# elif year % 400 == 0:\n",
        "#   print(\"leap year\")\n",
        "# else:\n",
        "#   print(\"not leap year\")\n"
      ]
    },
    {
      "cell_type": "markdown",
      "metadata": {
        "id": "6oAPXjF7pghb"
      },
      "source": [
        "# caça ao tesouro\n",
        "este desafio foi um dos mais complicados durante o curso. para um iniciante, é uma ótima forma de prática"
      ]
    },
    {
      "cell_type": "code",
      "execution_count": null,
      "metadata": {
        "colab": {
          "base_uri": "https://localhost:8080/"
        },
        "id": "4m7mGMVkpqHW",
        "outputId": "dfbbade2-2ac6-4f84-f56f-9f1c7cd93e5c"
      },
      "outputs": [
        {
          "name": "stdout",
          "output_type": "stream",
          "text": [
            "\n",
            "*******************************************************************************\n",
            "          |                   |                  |                     |\n",
            " _________|________________.=\"\"_;=.______________|_____________________|_______\n",
            "|                   |  ,-\"_,=\"\"     `\"=.|                  |\n",
            "|___________________|__\"=._o`\"-._        `\"=.______________|___________________\n",
            "          |                `\"=._o`\"=._      _`\"=._                     |\n",
            " _________|_____________________:=._o \"=._.\"_.-=\"'\"=.__________________|_______\n",
            "|                   |    __.--\" , ; `\"=._o.\" ,-\"\"\"-._ \".   |\n",
            "|___________________|_._\"  ,. .` ` `` ,  `\"-._\"-._   \". '__|___________________\n",
            "          |           |o`\"=._` , \"` `; .\". ,  \"-._\"-._; ;              |\n",
            " _________|___________| ;`-.o`\"=._; .\" ` '`.\"\\` . \"-._ /_______________|_______\n",
            "|                   | |o;    `\"-.o`\"=._``  '` \" ,__.--o;   |\n",
            "|___________________|_| ;     (#) `-.o `\"=.`_.--\"_o.-; ;___|___________________\n",
            "____/______/______/___|o;._    \"      `\".o|o_.--\"    ;o;____/______/______/____\n",
            "/______/______/______/_\"=._o--._        ; | ;        ; ;/______/______/______/_\n",
            "____/______/______/______/__\"=._o--._   ;o|o;     _._;o;____/______/______/____\n",
            "/______/______/______/______/____\"=._o._; | ;_.--\"o.--\"_/______/______/______/_\n",
            "____/______/______/______/______/_____\"=.o|o_.--\"\"___/______/______/______/____\n",
            "/______/______/______/______/______/______/______/______/______/______/_____ /\n",
            "*******************************************************************************\n",
            "\n",
            "Welcome to Treasure Island.\n",
            "Your mission is to find the treasure.\n",
            "You're at a crossroad which direction you wanna go? Type \"left\" or \"right\". \n",
            "right\n",
            "You met with the Dracarys' dragon. Game Over...\n"
          ]
        }
      ],
      "source": [
        "print('''\n",
        "*******************************************************************************\n",
        "          |                   |                  |                     |\n",
        " _________|________________.=\"\"_;=.______________|_____________________|_______\n",
        "|                   |  ,-\"_,=\"\"     `\"=.|                  |\n",
        "|___________________|__\"=._o`\"-._        `\"=.______________|___________________\n",
        "          |                `\"=._o`\"=._      _`\"=._                     |\n",
        " _________|_____________________:=._o \"=._.\"_.-=\"'\"=.__________________|_______\n",
        "|                   |    __.--\" , ; `\"=._o.\" ,-\"\"\"-._ \".   |\n",
        "|___________________|_._\"  ,. .` ` `` ,  `\"-._\"-._   \". '__|___________________\n",
        "          |           |o`\"=._` , \"` `; .\". ,  \"-._\"-._; ;              |\n",
        " _________|___________| ;`-.o`\"=._; .\" ` '`.\"` . \"-._ /_______________|_______\n",
        "|                   | |o;    `\"-.o`\"=._``  '` \" ,__.--o;   |\n",
        "|___________________|_| ;     (#) `-.o `\"=.`_.--\"_o.-; ;___|___________________\n",
        "____/______/______/___|o;._    \"      `\".o|o_.--\"    ;o;____/______/______/____\n",
        "/______/______/______/_\"=._o--._        ; | ;        ; ;/______/______/______/_\n",
        "____/______/______/______/__\"=._o--._   ;o|o;     _._;o;____/______/______/____\n",
        "/______/______/______/______/____\"=._o._; | ;_.--\"o.--\"_/______/______/______/_\n",
        "____/______/______/______/______/_____\"=.o|o_.--\"\"___/______/______/______/____\n",
        "/______/______/______/______/______/______/______/______/______/______/_____ /\n",
        "*******************************************************************************\n",
        "''')\n",
        "print(\"Welcome to Treasure Island.\")\n",
        "print(\"Your mission is to find the treasure.\")\n",
        "\n",
        "#https://www.draw.io/?lightbox=1&highlight=0000ff&edit=_blank&layers=1&nav=1&title=Treasure%20Island%20Conditional.drawio#Uhttps%3A%2F%2Fdrive.google.com%2Fuc%3Fid%3D1oDe4ehjWZipYRsVfeAx2HyB7LCQ8_Fvi%26export%3Ddownload\n",
        "\n",
        "#Write your code below this line 👇\n",
        "choice1 = input('You\\'re at a crossroad which direction you wanna go? Type \"left\" or \"right\". \\n').lower()\n",
        "\n",
        "if choice1 == \"left\":\n",
        "  choice2 = input('You\\'ve come to a lake. There is an island in the middle of the lake. Type \"wait\" to wait for a boat or type \"swim\" to swim across. \\n').lower()\n",
        "  if choice2 == \"wait\":\n",
        "    choice3 = input('You arrive at the island unharmed.There is a house with 3 doors. One red, one yellow and one blue. Which colour do you choose? \\n').lower()\n",
        "    if choice3 == \"red\":\n",
        "      print(\"Entered in a room full of fire. Game Over...\")\n",
        "    elif choice3 ==\"yellow\":\n",
        "      print(\"You found the fuck*n treasure! You Win!\")\n",
        "    elif choice3 ==\"blue\":\n",
        "      print(\"You enter a room of beasts. Game Over...\")\n",
        "    else:\n",
        "      print(\"This door does not exists! Game Over...\")\n",
        "  else:\n",
        "    print(\"You got attacked by an angry trout and Sherk couldn't saved you. Game Over...\")\n",
        "else:\n",
        "  print(\"You met with the Dracarys\\' dragon. Game Over...\")\n"
      ]
    },
    {
      "cell_type": "markdown",
      "metadata": {
        "id": "g1ZpjvxEp_5t"
      },
      "source": [
        "# pedra, papel e tesoura"
      ]
    },
    {
      "cell_type": "code",
      "execution_count": 1,
      "metadata": {
        "colab": {
          "base_uri": "https://localhost:8080/"
        },
        "id": "-hQtOGneqDBk",
        "outputId": "b40479c5-5d18-41dd-f17c-9b8b0d0a9d54"
      },
      "outputs": [
        {
          "name": "stdout",
          "output_type": "stream",
          "text": [
            "Welcome to RPS!\n",
            "What do you choose? Type 0 for Rock, 1 for Paper or 2 for Scissors. \n",
            "0\n",
            "\n",
            "    _______\n",
            "---'   ____)\n",
            "      (_____)\n",
            "      (_____)\n",
            "      (____)\n",
            "---.__(___)\n",
            "\n",
            "Computer chose:\n",
            "\n",
            "    _______\n",
            "---'   ____)____\n",
            "          ______)\n",
            "       __________)\n",
            "      (____)\n",
            "---.__(___)\n",
            "\n",
            "You win!\n"
          ]
        }
      ],
      "source": [
        "import random\n",
        "\n",
        "rock = '''\n",
        "    _______\n",
        "---'   ____)\n",
        "      (_____)\n",
        "      (_____)\n",
        "      (____)\n",
        "---.__(___)\n",
        "'''\n",
        "\n",
        "paper = '''\n",
        "    _______\n",
        "---'   ____)____\n",
        "          ______)\n",
        "          _______)\n",
        "         _______)\n",
        "---.__________)\n",
        "'''\n",
        "\n",
        "scissors = '''\n",
        "    _______\n",
        "---'   ____)____\n",
        "          ______)\n",
        "       __________)\n",
        "      (____)\n",
        "---.__(___)\n",
        "'''\n",
        "\n",
        "#Write your code below this line 👇\n",
        "print(\"Welcome to RPS!\")\n",
        "game_images = [rock, paper, scissors]\n",
        "\n",
        "user_choice = int(input(\"What do you choose? Type 0 for Rock, 1 for Paper or 2 for Scissors. \\n\"))\n",
        "if user_choice >= 3 or user_choice < 0:\n",
        "  print(\"Invalid number! You lose\")\n",
        "else:\n",
        "  print(game_images[user_choice])\n",
        "\n",
        "  computer_choice = random.randint(0, 2)\n",
        "  print(\"Computer chose:\")\n",
        "  print(game_images[computer_choice])\n",
        "\n",
        "  if user_choice == computer_choice:\n",
        "    print(\"It's a draw\")\n",
        "  elif (user_choice == 0 and computer_choice == 2) or (user_choice > computer_choice):\n",
        "    print(\"You win!\")\n",
        "  else:\n",
        "    print(\"You lose!\")"
      ]
    }
  ],
  "metadata": {
    "colab": {
      "provenance": []
    },
    "kernelspec": {
      "display_name": "Python 3",
      "name": "python3"
    },
    "language_info": {
      "name": "python"
    }
  },
  "nbformat": 4,
  "nbformat_minor": 0
}
